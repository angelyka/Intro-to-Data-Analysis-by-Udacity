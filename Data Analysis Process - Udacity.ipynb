{
 "cells": [
  {
   "cell_type": "markdown",
   "id": "f623e102",
   "metadata": {},
   "source": [
    "<h1> Data Analysis Process"
   ]
  },
  {
   "cell_type": "markdown",
   "id": "c5c9fa8a",
   "metadata": {},
   "source": [
    "### Create a function to load multiple CSV files"
   ]
  },
  {
   "cell_type": "code",
   "execution_count": 1,
   "id": "a36e0a47",
   "metadata": {},
   "outputs": [],
   "source": [
    "import unicodecsv\n",
    "\n",
    "def read_csv(filename):\n",
    "    with open (filename, 'rb') as f:\n",
    "        reader = unicodecsv.DictReader(f)\n",
    "        return list(reader)\n",
    "\n",
    "enrollments = read_csv('enrollments.csv')\n",
    "daily_engagement = read_csv('daily_engagement.csv')\n",
    "project_submissions = read_csv('project_submissions.csv')"
   ]
  },
  {
   "cell_type": "code",
   "execution_count": 2,
   "id": "9af2b070",
   "metadata": {},
   "outputs": [
    {
     "data": {
      "text/plain": [
       "{'account_key': '448',\n",
       " 'status': 'canceled',\n",
       " 'join_date': '2014-11-10',\n",
       " 'cancel_date': '2015-01-14',\n",
       " 'days_to_cancel': '65',\n",
       " 'is_udacity': 'True',\n",
       " 'is_canceled': 'True'}"
      ]
     },
     "execution_count": 2,
     "metadata": {},
     "output_type": "execute_result"
    }
   ],
   "source": [
    "enrollments[0]"
   ]
  },
  {
   "cell_type": "code",
   "execution_count": 3,
   "id": "ea9965e5",
   "metadata": {},
   "outputs": [
    {
     "data": {
      "text/plain": [
       "{'acct': '0',\n",
       " 'utc_date': '2015-01-09',\n",
       " 'num_courses_visited': '1.0',\n",
       " 'total_minutes_visited': '11.6793745',\n",
       " 'lessons_completed': '0.0',\n",
       " 'projects_completed': '0.0'}"
      ]
     },
     "execution_count": 3,
     "metadata": {},
     "output_type": "execute_result"
    }
   ],
   "source": [
    "daily_engagement[0]"
   ]
  },
  {
   "cell_type": "code",
   "execution_count": 4,
   "id": "db763f79",
   "metadata": {},
   "outputs": [
    {
     "data": {
      "text/plain": [
       "{'creation_date': '2015-01-14',\n",
       " 'completion_date': '2015-01-16',\n",
       " 'assigned_rating': 'UNGRADED',\n",
       " 'account_key': '256',\n",
       " 'lesson_key': '3176718735',\n",
       " 'processing_state': 'EVALUATED'}"
      ]
     },
     "execution_count": 4,
     "metadata": {},
     "output_type": "execute_result"
    }
   ],
   "source": [
    "project_submissions[0]"
   ]
  },
  {
   "cell_type": "markdown",
   "id": "876ee93b",
   "metadata": {},
   "source": [
    "<h1> Fixing Data Types"
   ]
  },
  {
   "cell_type": "code",
   "execution_count": 5,
   "id": "38703c59",
   "metadata": {},
   "outputs": [
    {
     "data": {
      "text/plain": [
       "{'account_key': '448',\n",
       " 'status': 'canceled',\n",
       " 'join_date': datetime.datetime(2014, 11, 10, 0, 0),\n",
       " 'cancel_date': datetime.datetime(2015, 1, 14, 0, 0),\n",
       " 'days_to_cancel': 65,\n",
       " 'is_udacity': True,\n",
       " 'is_canceled': True}"
      ]
     },
     "execution_count": 5,
     "metadata": {},
     "output_type": "execute_result"
    }
   ],
   "source": [
    "from datetime import datetime as dt\n",
    "\n",
    "# \"parse_date\" function takes a date as a string, and returns a Python datetime object. \n",
    "# If there is no date given, returns None\n",
    "\n",
    "def parse_date(date):\n",
    "    if date == '':\n",
    "        return None\n",
    "    else:\n",
    "        return dt.strptime(date, '%Y-%m-%d')\n",
    "    \n",
    "# \"parse_maybe_int\" function takes a string which is either an empty string or represents an integer,\n",
    "# and returns an int or None.\n",
    "\n",
    "def parse_maybe_int(i):\n",
    "    if i == '':\n",
    "        return None\n",
    "    else:\n",
    "        return int(i)\n",
    "\n",
    "\n",
    "# Clean up the data types in the enrollments table\n",
    "\n",
    "for enrollment in enrollments:\n",
    "    enrollment['cancel_date'] = parse_date(enrollment['cancel_date'])\n",
    "    enrollment['days_to_cancel'] = parse_maybe_int(enrollment['days_to_cancel'])\n",
    "    enrollment['is_canceled'] = enrollment['is_canceled'] == 'True'\n",
    "    enrollment['is_udacity'] = enrollment['is_udacity'] == 'True'\n",
    "    enrollment['join_date'] = parse_date(enrollment['join_date'])\n",
    "    \n",
    "enrollments[0]"
   ]
  },
  {
   "cell_type": "code",
   "execution_count": 6,
   "id": "e9fd3271",
   "metadata": {},
   "outputs": [
    {
     "data": {
      "text/plain": [
       "{'acct': '0',\n",
       " 'utc_date': datetime.datetime(2015, 1, 9, 0, 0),\n",
       " 'num_courses_visited': 1,\n",
       " 'total_minutes_visited': 11.6793745,\n",
       " 'lessons_completed': 0,\n",
       " 'projects_completed': 0}"
      ]
     },
     "execution_count": 6,
     "metadata": {},
     "output_type": "execute_result"
    }
   ],
   "source": [
    "# Clean up the data types in the engagement table\n",
    "\n",
    "for engagement_record in daily_engagement:\n",
    "    engagement_record['lessons_completed'] = int(float(engagement_record['lessons_completed']))\n",
    "    engagement_record['num_courses_visited'] = int(float(engagement_record['num_courses_visited']))\n",
    "    engagement_record['projects_completed'] = int(float(engagement_record['projects_completed']))\n",
    "    engagement_record['total_minutes_visited'] = float(engagement_record['total_minutes_visited'])\n",
    "    engagement_record['utc_date'] = parse_date(engagement_record['utc_date'])\n",
    "    \n",
    "daily_engagement[0]"
   ]
  },
  {
   "cell_type": "code",
   "execution_count": 7,
   "id": "9f5d1281",
   "metadata": {},
   "outputs": [
    {
     "data": {
      "text/plain": [
       "{'creation_date': datetime.datetime(2015, 1, 14, 0, 0),\n",
       " 'completion_date': datetime.datetime(2015, 1, 16, 0, 0),\n",
       " 'assigned_rating': 'UNGRADED',\n",
       " 'account_key': '256',\n",
       " 'lesson_key': '3176718735',\n",
       " 'processing_state': 'EVALUATED'}"
      ]
     },
     "execution_count": 7,
     "metadata": {},
     "output_type": "execute_result"
    }
   ],
   "source": [
    "# Clean up the data types in the submissions table\n",
    "\n",
    "for submission in project_submissions:\n",
    "    submission['completion_date'] = parse_date(submission['completion_date'])\n",
    "    submission['creation_date'] = parse_date(submission['creation_date'])\n",
    "\n",
    "project_submissions[0]"
   ]
  },
  {
   "cell_type": "markdown",
   "id": "3fed7630",
   "metadata": {},
   "source": [
    "<h2> Question Phase"
   ]
  },
  {
   "cell_type": "markdown",
   "id": "1a5a2d81",
   "metadata": {},
   "source": [
    "Some questions that can be derived from the datasets:\n",
    "\n",
    "1. How long to submit projects?\n",
    "2. How do students who pass their projects differ from those who don't?\n",
    "3. How much time students spend taking classes?\n",
    "4. How time spent relates to lesson/projects completed?\n",
    "5. How student engagement changes overtime?\n",
    "6. How many times students submit projects before they pass? Does this differ for every projects?"
   ]
  },
  {
   "cell_type": "markdown",
   "id": "d85ec05b",
   "metadata": {},
   "source": [
    "<h1>Investigating the Data"
   ]
  },
  {
   "cell_type": "markdown",
   "id": "b965ba12",
   "metadata": {},
   "source": [
    "Now you've started the data wrangling process by loading the data and making sure it's in a good format, the next step is to investigate a bit and see if there are any inconsistencies or problems in the data that you'll need to clean up.\n",
    "\n",
    "For each of the three files you've loaded, find the total number of rows in the csv and the number of unique students. To find the number of unique students in each table, you might want to try creating a set of the account keys."
   ]
  },
  {
   "cell_type": "code",
   "execution_count": 8,
   "id": "079e38b4",
   "metadata": {},
   "outputs": [],
   "source": [
    "## Find the total number of rows and the number of unique students (account keys)\n",
    "## in each table."
   ]
  },
  {
   "cell_type": "code",
   "execution_count": 9,
   "id": "0e0d3027",
   "metadata": {},
   "outputs": [],
   "source": [
    "#Rename 'acct' column in daily_engagement to 'account_key'\n",
    "\n",
    "for engagement_record in daily_engagement:\n",
    "    engagement_record['account_key'] = engagement_record['acct']\n",
    "    del[engagement_record['acct']]"
   ]
  },
  {
   "cell_type": "markdown",
   "id": "a300fc07",
   "metadata": {},
   "source": [
    "After running the above code, Caroline also shows rewriting the solution from the previous exercise to the following code:"
   ]
  },
  {
   "cell_type": "code",
   "execution_count": 15,
   "id": "4492736f",
   "metadata": {},
   "outputs": [],
   "source": [
    "#Find the number of unique students (account keys)\n",
    "\n",
    "def get_unique_students(data):\n",
    "    unique_students = set()\n",
    "    for data_point in data:\n",
    "        unique_students.add(data_point['account_key'])\n",
    "    return unique_students"
   ]
  },
  {
   "cell_type": "code",
   "execution_count": 14,
   "id": "eef9b135",
   "metadata": {},
   "outputs": [
    {
     "name": "stdout",
     "output_type": "stream",
     "text": [
      "Total number of rows in enrollments: 1640\n",
      "Total number of unique students in enrollments: 1302\n"
     ]
    }
   ],
   "source": [
    "print('Total number of rows in enrollments:', (len(enrollments)))\n",
    "\n",
    "unique_enrolled_students = get_unique_students(enrollments)\n",
    "\n",
    "print('Total number of unique students in enrollments:', (len(unique_enrolled_students)))"
   ]
  },
  {
   "cell_type": "code",
   "execution_count": 17,
   "id": "51c5c4cd",
   "metadata": {},
   "outputs": [
    {
     "name": "stdout",
     "output_type": "stream",
     "text": [
      "Total number of rows in daily engagement: 136240\n",
      "Total number of unique students in daily engagement: 1237\n"
     ]
    }
   ],
   "source": [
    "print('Total number of rows in daily engagement:', (len(daily_engagement)))\n",
    "\n",
    "unique_engagement_students = get_unique_students(daily_engagement)\n",
    "\n",
    "print('Total number of unique students in daily engagement:', (len(unique_engagement_students)))"
   ]
  },
  {
   "cell_type": "code",
   "execution_count": 19,
   "id": "a3633359",
   "metadata": {},
   "outputs": [
    {
     "name": "stdout",
     "output_type": "stream",
     "text": [
      "Total number of rows in project submissions: 3642\n",
      "Total number of unique students in project submissions: 743\n"
     ]
    }
   ],
   "source": [
    "print('Total number of rows in project submissions:', (len(project_submissions)))\n",
    "\n",
    "unique_project_submitters = get_unique_students(project_submissions)\n",
    "\n",
    "print('Total number of unique students in project submissions:', (len(unique_project_submitters)))"
   ]
  },
  {
   "cell_type": "markdown",
   "id": "d3447f26",
   "metadata": {},
   "source": [
    "## Missing Engagement Records"
   ]
  },
  {
   "cell_type": "markdown",
   "id": "7e5f05ed",
   "metadata": {},
   "source": [
    "There are more unique students in enrollment than engagement table.\n",
    "\n",
    "Why are students missing from daily_engagement?\n",
    "1. Identify surprising data points?\n",
    " - Any enrollment record with corresponding engagement data\n",
    "\n",
    "\n",
    "2. Print out one or a few surprising data points\n",
    "\n",
    "\n",
    "3. Fix any problems you find\n",
    " - More investigation may be necessary\n",
    " - Or there might not be a problem"
   ]
  },
  {
   "cell_type": "code",
   "execution_count": 21,
   "id": "127fd714",
   "metadata": {},
   "outputs": [
    {
     "name": "stdout",
     "output_type": "stream",
     "text": [
      "{'account_key': '1219', 'status': 'canceled', 'join_date': datetime.datetime(2014, 11, 12, 0, 0), 'cancel_date': datetime.datetime(2014, 11, 12, 0, 0), 'days_to_cancel': 0, 'is_udacity': False, 'is_canceled': True}\n"
     ]
    }
   ],
   "source": [
    "## Find any one student enrollments where the student is missing from the daily engagement table.\n",
    "## Output that enrollment.\n",
    "\n",
    "for enrollment in enrollments:\n",
    "    student = enrollment['account_key']\n",
    "    if student not in unique_engagement_students:\n",
    "        print(enrollment)\n",
    "        break"
   ]
  },
  {
   "cell_type": "code",
   "execution_count": 22,
   "id": "89aeca5e",
   "metadata": {
    "scrolled": true
   },
   "outputs": [
    {
     "name": "stdout",
     "output_type": "stream",
     "text": [
      "{'account_key': '1304', 'status': 'canceled', 'join_date': datetime.datetime(2015, 1, 10, 0, 0), 'cancel_date': datetime.datetime(2015, 3, 10, 0, 0), 'days_to_cancel': 59, 'is_udacity': True, 'is_canceled': True}\n",
      "{'account_key': '1304', 'status': 'canceled', 'join_date': datetime.datetime(2015, 3, 10, 0, 0), 'cancel_date': datetime.datetime(2015, 6, 17, 0, 0), 'days_to_cancel': 99, 'is_udacity': True, 'is_canceled': True}\n",
      "{'account_key': '1101', 'status': 'current', 'join_date': datetime.datetime(2015, 2, 25, 0, 0), 'cancel_date': None, 'days_to_cancel': None, 'is_udacity': True, 'is_canceled': False}\n"
     ]
    },
    {
     "data": {
      "text/plain": [
       "3"
      ]
     },
     "execution_count": 22,
     "metadata": {},
     "output_type": "execute_result"
    }
   ],
   "source": [
    "num_problem_students = 0\n",
    "\n",
    "for enrollment in enrollments:\n",
    "    student = enrollment['account_key']\n",
    "    if student not in unique_engagement_students \\\n",
    "            and enrollment['join_date'] != enrollment['cancel_date']:\n",
    "        num_problem_students += 1\n",
    "        print(enrollment)\n",
    "        \n",
    "num_problem_students"
   ]
  },
  {
   "cell_type": "markdown",
   "id": "d69e88e9",
   "metadata": {},
   "source": [
    "### We found that the accounts returned above are Udacity test accounts. This can be confirmed in the 'is_udacity': True"
   ]
  },
  {
   "cell_type": "markdown",
   "id": "0f9dfb7d",
   "metadata": {},
   "source": [
    "## Tracking Down the Remaining Problems"
   ]
  },
  {
   "cell_type": "code",
   "execution_count": 23,
   "id": "cf794178",
   "metadata": {},
   "outputs": [
    {
     "data": {
      "text/plain": [
       "6"
      ]
     },
     "execution_count": 23,
     "metadata": {},
     "output_type": "execute_result"
    }
   ],
   "source": [
    "#Check how many Udacity test accounts are there\n",
    "\n",
    "udacity_test_accounts = set()\n",
    "for enrollment in enrollments:\n",
    "    if enrollment ['is_udacity']:\n",
    "        udacity_test_accounts.add(enrollment['account_key'])\n",
    "len(udacity_test_accounts)"
   ]
  },
  {
   "cell_type": "code",
   "execution_count": 54,
   "id": "683de72e",
   "metadata": {},
   "outputs": [],
   "source": [
    "#Create a function that removes Udacity test accounts\n",
    "\n",
    "def remove_udacity_accounts(data):\n",
    "    non_udacity_data = []\n",
    "    for data_point in data:\n",
    "        if data_point['account_key'] not in udacity_test_accounts:\n",
    "            non_udacity_data.append(data_point)\n",
    "    return non_udacity_data"
   ]
  },
  {
   "cell_type": "code",
   "execution_count": 25,
   "id": "37c7126e",
   "metadata": {},
   "outputs": [
    {
     "name": "stdout",
     "output_type": "stream",
     "text": [
      "1622\n",
      "135656\n",
      "3634\n"
     ]
    }
   ],
   "source": [
    "#Remove Udacity test accounts from each dataset\n",
    "#Print the number of non_udacity accounts\n",
    "\n",
    "non_udacity_enrollments = remove_udacity_accounts(enrollments)\n",
    "non_udacity_engagement = remove_udacity_accounts(daily_engagement)\n",
    "non_udacity_submissions = remove_udacity_accounts(project_submissions)\n",
    "\n",
    "print(len(non_udacity_enrollments))\n",
    "print(len(non_udacity_engagement))\n",
    "print(len(non_udacity_submissions))\n"
   ]
  },
  {
   "cell_type": "markdown",
   "id": "53b03789",
   "metadata": {},
   "source": [
    "## Refining the Question"
   ]
  },
  {
   "cell_type": "markdown",
   "id": "451cbe7d",
   "metadata": {},
   "source": [
    "<h3> Exploratory Data Analysis"
   ]
  },
  {
   "cell_type": "markdown",
   "id": "f47193e6",
   "metadata": {},
   "source": [
    "<b>Question:</b>\n",
    "How do numbers in the daily engagement table differ for students who pass the first project?\n",
    "\n",
    "<b>Problems that we can encounter with this Q:</b>\n",
    "1. This will include data from after the project submission. We only need to look at the data before first submission.\n",
    "2. This compares data from different lengths of time. Comparing averages may be misleading.\n",
    "3. Includes engagement in courses not related to the first project (not a show stopper)\n",
    " \n",
    "<b>Revision:</b>\n",
    "Only look at engagement from first week and exclude students who cancel within a week. (First 2 problems)"
   ]
  },
  {
   "cell_type": "markdown",
   "id": "1b0a4ddf",
   "metadata": {},
   "source": [
    "<b><i>Create a dictionary named paid_students containing all students who either haven't canceled yet or who remained enrolled for more than 7 days. The keys should be account keys, and the values should be the date the student enrolled."
   ]
  },
  {
   "cell_type": "code",
   "execution_count": 26,
   "id": "8996ddb6",
   "metadata": {},
   "outputs": [
    {
     "data": {
      "text/plain": [
       "995"
      ]
     },
     "execution_count": 26,
     "metadata": {},
     "output_type": "execute_result"
    }
   ],
   "source": [
    "#Create a new empty dictionary\n",
    "\n",
    "paid_students = {}\n",
    "\n",
    "#Loop through enrollment where there are no udacity accts\n",
    "\n",
    "for enrollment in non_udacity_enrollments:\n",
    "    if not enrollment['is_canceled'] or enrollment['days_to_cancel'] > 7:\n",
    "        account_key = enrollment['account_key']\n",
    "        enrollment_date = enrollment['join_date']\n",
    "\n",
    "#Same student can enroll multiple times and if that happens,\n",
    "#we're just going to save an arbitrary one of those enrollment dates\n",
    "#Only add date to the dictionary if the acct key was not already present \n",
    "#or this date is more recent than the one already present       \n",
    "    \n",
    "        if account_key not in paid_students or \\\n",
    "                enrollment_date > paid_students[account_key]:\n",
    "            paid_students[account_key] = enrollment_date #account key as key and enrollment date as value\n",
    "        \n",
    "len(paid_students)\n",
    "\n",
    "#Note that paid students may have canceled from other courses before paying, \n",
    "#and the suggested solution will retain records from these other enrollments."
   ]
  },
  {
   "cell_type": "markdown",
   "id": "9f71f78d",
   "metadata": {},
   "source": [
    "<b>Getting Data from First Week<b>"
   ]
  },
  {
   "cell_type": "code",
   "execution_count": 27,
   "id": "c58c4297",
   "metadata": {},
   "outputs": [],
   "source": [
    "# Takes a student's join date and the date of a specific engagement record,\n",
    "# and returns True if that engagement record happened within one week\n",
    "# of the student joining.\n",
    "\n",
    "def within_one_week(join_date, engagement_date):\n",
    "    time_delta = engagement_date - join_date\n",
    "    return time_delta.days < 7 and time_delta.days >= 0\n",
    "\n",
    "#Before the \"and\" statement, we were only checking \n",
    "#the engagement date that came at most seven days after the joint date\n",
    "\n",
    "#We're not checking that the engagement date actually came after the join date\n",
    "\n",
    "#So for students who enroll once, then cancel, then enroll again later,\n",
    "#everthing from the first enrollment will count as their frist week\n",
    "\n",
    "#to fix this, we checked that at least zero days had passed from the join date\n",
    "#to the engagement date, that way we're only considering data from the\n",
    "#most recent enrollment which was our intention"
   ]
  },
  {
   "cell_type": "code",
   "execution_count": 28,
   "id": "12b860d5",
   "metadata": {},
   "outputs": [],
   "source": [
    "#Create a function to remove any data points corresponding\n",
    "#to students who canceled during the free trial\n",
    "\n",
    "def remove_free_trial_cancels(data):\n",
    "    new_data = []\n",
    "    for data_point in data:\n",
    "        if data_point['account_key'] in paid_students:\n",
    "            new_data.append(data_point)\n",
    "    return new_data"
   ]
  },
  {
   "cell_type": "code",
   "execution_count": 29,
   "id": "509339ae",
   "metadata": {},
   "outputs": [
    {
     "name": "stdout",
     "output_type": "stream",
     "text": [
      "1293\n",
      "134549\n",
      "3618\n"
     ]
    }
   ],
   "source": [
    "#Next, we called this function on each of the three tables and\n",
    "#saved the results in new variables\n",
    "\n",
    "paid_enrollments = remove_free_trial_cancels(non_udacity_enrollments)\n",
    "paid_engagement = remove_free_trial_cancels(non_udacity_engagement)\n",
    "paid_submissions = remove_free_trial_cancels(non_udacity_submissions)\n",
    "\n",
    "print(len(paid_enrollments))\n",
    "print(len(paid_engagement))\n",
    "print(len(paid_submissions))"
   ]
  },
  {
   "cell_type": "code",
   "execution_count": 30,
   "id": "f17a322f",
   "metadata": {},
   "outputs": [],
   "source": [
    "for engagement_record in paid_engagement:\n",
    "    if engagement_record['num_courses_visited'] > 0:\n",
    "        engagement_record['has_visited'] = 1\n",
    "    else:\n",
    "        engagement_record['has_visited'] = 0"
   ]
  },
  {
   "cell_type": "code",
   "execution_count": 55,
   "id": "f7908046",
   "metadata": {},
   "outputs": [
    {
     "data": {
      "text/plain": [
       "6919"
      ]
     },
     "execution_count": 55,
     "metadata": {},
     "output_type": "execute_result"
    }
   ],
   "source": [
    "## Create a list of rows from the engagement table including only rows where\n",
    "## the student is one of the paid students you just found, and the date is within\n",
    "## one week of the student's join date.\n",
    "\n",
    "#start as empty list\n",
    "paid_engagement_in_first_week = []\n",
    "\n",
    "#Loop over each record in the engagement table and\n",
    "#saved the student's acct key in the account_key variable\n",
    "\n",
    "for engagement_record in paid_engagement:\n",
    "    account_key = engagement_record['account_key']\n",
    "\n",
    "#look up student's join date using the dictionary we created earlier\n",
    "    join_date = paid_students[account_key]\n",
    "\n",
    "#save the date of the engagement record\n",
    "    engagement_record_date = engagement_record['utc_date']\n",
    "\n",
    "#check whether the two dates were within one week of each other    \n",
    "#if so, append this record to the variable paid_engagement_in_first_week\n",
    "    if within_one_week(join_date, engagement_record_date):\n",
    "        paid_engagement_in_first_week.append(engagement_record)\n",
    "        \n",
    "len(paid_engagement_in_first_week)"
   ]
  },
  {
   "cell_type": "markdown",
   "id": "0937fe15",
   "metadata": {},
   "source": [
    "<b>Average Minutes Spend in Classroom During the First Week<b>"
   ]
  },
  {
   "cell_type": "code",
   "execution_count": 32,
   "id": "2240c688",
   "metadata": {},
   "outputs": [],
   "source": [
    "#Create a dictionary to group engagement data by acct key\n",
    "#defaultdict allows us to specify a default value\n",
    "\n",
    "from collections import defaultdict\n",
    "\n",
    "engagement_by_account = defaultdict(list)\n",
    "\n",
    "#loop through engagement record and saved the account key\n",
    "for engagement_record in paid_engagement_in_first_week:\n",
    "    account_key = engagement_record['account_key']\n",
    "\n",
    "#lookup engagement record for that acct key\n",
    "#then append this engagement record to the list of \n",
    "#engagement records for that account key\n",
    "    engagement_by_account[account_key].append(engagement_record)"
   ]
  },
  {
   "cell_type": "code",
   "execution_count": 33,
   "id": "f47b9909",
   "metadata": {},
   "outputs": [],
   "source": [
    "#Add up the number of minutes visited by each account and\n",
    "#save in this dict\n",
    "#will store a number for each acct key instead of \n",
    "#a list of engagement records\n",
    "\n",
    "total_minutes_by_account = {}\n",
    "\n",
    "#loop over the dict created previously and \n",
    "#by looping over the .items, we get both the key and \n",
    "#the value for each entry in the dict\n",
    "\n",
    "for account_key, engagement_for_student in engagement_by_account.items():\n",
    "#for each acct, the number of minutes starts at 0.\n",
    "    total_minutes = 0\n",
    "\n",
    "#loop over each engagement record in the list of engagement records\n",
    "#for that student and add the number of minutes that student\n",
    "#visited in that engagement record to the total number of\n",
    "#minutes for the student\n",
    "    \n",
    "    for engagement_record in engagement_for_student: \n",
    "        total_minutes += engagement_record['total_minutes_visited']\n",
    "        \n",
    "#store that number if minutes under that account key in the new dict\n",
    "    total_minutes_by_account[account_key] = total_minutes"
   ]
  },
  {
   "cell_type": "code",
   "execution_count": 34,
   "id": "e2354032",
   "metadata": {},
   "outputs": [
    {
     "name": "stdout",
     "output_type": "stream",
     "text": [
      "Mean: 306.70832675342825\n",
      "Standard Deviation: 412.99693340852957\n",
      "Minimum: 0.0\n",
      "Maximum: 3564.7332644989997\n"
     ]
    }
   ],
   "source": [
    "#take the average of those totals\n",
    "#for that, account keys are no longer relevant\n",
    "#make it a list to avoid error\n",
    "\n",
    "total_minutes = list(total_minutes_by_account.values())\n",
    "\n",
    "import numpy as np\n",
    "\n",
    "print('Mean:',np.mean(total_minutes))\n",
    "print('Standard Deviation:',np.std(total_minutes))\n",
    "print('Minimum:',np.min(total_minutes))\n",
    "print('Maximum:',np.max(total_minutes))\n",
    "\n",
    "#maximum is very large so something has gone wrong"
   ]
  },
  {
   "cell_type": "code",
   "execution_count": 35,
   "id": "59c1de6b",
   "metadata": {},
   "outputs": [
    {
     "data": {
      "text/plain": [
       "3564.7332644989997"
      ]
     },
     "execution_count": 35,
     "metadata": {},
     "output_type": "execute_result"
    }
   ],
   "source": [
    "#Initialize the student with the max minutes to be none and \n",
    "#max min spent to be zero\n",
    "\n",
    "\n",
    "student_with_max_minutes = None\n",
    "max_minutes = 0\n",
    "\n",
    "#loop over each student and the num of mins they spent\n",
    "#in the total minutes by acct dict\n",
    "for student, total_minutes in total_minutes_by_account.items():\n",
    "    if total_minutes > max_minutes:\n",
    "\n",
    "#reset both the max num of minutes and the maximum student\n",
    "#to be this num of minutes and this student\n",
    "        max_minutes = total_minutes\n",
    "        student_with_max_minutes = student\n",
    "        \n",
    "max_minutes        "
   ]
  },
  {
   "cell_type": "code",
   "execution_count": 56,
   "id": "5ad7b04f",
   "metadata": {},
   "outputs": [
    {
     "name": "stdout",
     "output_type": "stream",
     "text": [
      "{'utc_date': datetime.datetime(2015, 7, 9, 0, 0), 'num_courses_visited': 4, 'total_minutes_visited': 850.519339666, 'lessons_completed': 4, 'projects_completed': 0, 'account_key': '163', 'has_visited': 1}\n",
      "{'utc_date': datetime.datetime(2015, 7, 10, 0, 0), 'num_courses_visited': 6, 'total_minutes_visited': 872.633923334, 'lessons_completed': 6, 'projects_completed': 0, 'account_key': '163', 'has_visited': 1}\n",
      "{'utc_date': datetime.datetime(2015, 7, 11, 0, 0), 'num_courses_visited': 2, 'total_minutes_visited': 777.018903666, 'lessons_completed': 6, 'projects_completed': 0, 'account_key': '163', 'has_visited': 1}\n",
      "{'utc_date': datetime.datetime(2015, 7, 12, 0, 0), 'num_courses_visited': 1, 'total_minutes_visited': 294.568774, 'lessons_completed': 2, 'projects_completed': 0, 'account_key': '163', 'has_visited': 1}\n",
      "{'utc_date': datetime.datetime(2015, 7, 13, 0, 0), 'num_courses_visited': 3, 'total_minutes_visited': 471.2139785, 'lessons_completed': 1, 'projects_completed': 0, 'account_key': '163', 'has_visited': 1}\n",
      "{'utc_date': datetime.datetime(2015, 7, 14, 0, 0), 'num_courses_visited': 2, 'total_minutes_visited': 298.778345333, 'lessons_completed': 1, 'projects_completed': 0, 'account_key': '163', 'has_visited': 1}\n",
      "{'utc_date': datetime.datetime(2015, 7, 15, 0, 0), 'num_courses_visited': 0, 'total_minutes_visited': 0.0, 'lessons_completed': 0, 'projects_completed': 0, 'account_key': '163', 'has_visited': 0}\n"
     ]
    }
   ],
   "source": [
    "#print each engagement record for that student\n",
    "\n",
    "for engagement_record in paid_engagement_in_first_week:\n",
    "    if engagement_record['account_key'] == student_with_max_minutes:\n",
    "        print(engagement_record)\n",
    "        \n",
    "#there are more than 7 entries\n",
    "#since we're only getting the first week data, it should not exceed 7 entries\n",
    "#data points aren't falling in a one week time span either"
   ]
  },
  {
   "cell_type": "code",
   "execution_count": 37,
   "id": "b9cc663b",
   "metadata": {},
   "outputs": [],
   "source": [
    "#Analyze lessons completed instead of minutes spent\n",
    "\n",
    "#Group records by account key\n",
    "\n",
    "from collections import defaultdict\n",
    "\n",
    "#key_name is added as extra argument w/c would indicate the key to groupby\n",
    "\n",
    "def group_data(data, key_name):\n",
    "\n",
    "    grouped_data = defaultdict(list)\n",
    "    for data_point in data:\n",
    "        key = data_point[key_name]\n",
    "        grouped_data[key].append(data_point)\n",
    "    return grouped_data\n",
    "\n",
    "#Call function below to create the same engagement by\n",
    "#account dict that we had previously\n",
    "\n",
    "\n",
    "engagement_by_account = group_data(paid_engagement_in_first_week, 'account_key')"
   ]
  },
  {
   "cell_type": "code",
   "execution_count": 38,
   "id": "955f73f6",
   "metadata": {},
   "outputs": [],
   "source": [
    "#Sum up all entries for each acct_key\n",
    "\n",
    "def sum_grouped_items(grouped_data, field_name):\n",
    "\n",
    "    summed_data = {}\n",
    "\n",
    "    for key, data_points in grouped_data.items():\n",
    "        total = 0\n",
    "        for data_point in data_points:\n",
    "            total += data_point[field_name]\n",
    "        summed_data[key] = total\n",
    "        \n",
    "    return summed_data\n",
    "\n",
    "total_minutes_by_account = sum_grouped_items(engagement_by_account, 'total_minutes_visited')"
   ]
  },
  {
   "cell_type": "code",
   "execution_count": 39,
   "id": "56ba0976",
   "metadata": {},
   "outputs": [
    {
     "name": "stdout",
     "output_type": "stream",
     "text": [
      "Mean: 306.70832675342825\n",
      "Standard deviation: 412.99693340852957\n",
      "Minimum: 0.0\n",
      "Maximum: 3564.7332644989997\n"
     ]
    },
    {
     "data": {
      "image/png": "[encoded data removed]",
      "text/plain": [
       "<Figure size 432x288 with 1 Axes>"
      ]
     },
     "metadata": {
      "needs_background": "light"
     },
     "output_type": "display_data"
    }
   ],
   "source": [
    "#Print summary statistics\n",
    "\n",
    "import matplotlib.pyplot as plt\n",
    "\n",
    "def describe_data(data):\n",
    "\n",
    "    print('Mean:', np.mean(data))\n",
    "    print('Standard deviation:', np.std(data))\n",
    "    print('Minimum:', np.min(data))\n",
    "    print('Maximum:', np.max(data))\n",
    "    plt.hist(data)\n",
    "\n",
    "total_minutes = list(total_minutes_by_account.values())\n",
    "describe_data(total_minutes)"
   ]
  },
  {
   "cell_type": "code",
   "execution_count": 40,
   "id": "37591000",
   "metadata": {},
   "outputs": [
    {
     "name": "stdout",
     "output_type": "stream",
     "text": [
      "Mean: 1.636180904522613\n",
      "Standard deviation: 3.002561299829423\n",
      "Minimum: 0\n",
      "Maximum: 36\n"
     ]
    },
    {
     "data": {
      "image/png": "[encoded data removed]",
      "text/plain": [
       "<Figure size 432x288 with 1 Axes>"
      ]
     },
     "metadata": {
      "needs_background": "light"
     },
     "output_type": "display_data"
    }
   ],
   "source": [
    "lessons_completed_by_account = sum_grouped_items(engagement_by_account, 'lessons_completed')\n",
    "\n",
    "describe_data(list(lessons_completed_by_account.values()))"
   ]
  },
  {
   "cell_type": "markdown",
   "id": "af0f8385",
   "metadata": {},
   "source": [
    "<b> Analyze the number of days the student visited the classroom:"
   ]
  },
  {
   "cell_type": "code",
   "execution_count": 41,
   "id": "ca73eb40",
   "metadata": {},
   "outputs": [
    {
     "name": "stdout",
     "output_type": "stream",
     "text": [
      "Mean: 2.8673366834170855\n",
      "Standard deviation: 2.2551980029196814\n",
      "Minimum: 0\n",
      "Maximum: 7\n"
     ]
    },
    {
     "data": {
      "image/png": "[encoded data removed]",
      "text/plain": [
       "<Figure size 432x288 with 1 Axes>"
      ]
     },
     "metadata": {
      "needs_background": "light"
     },
     "output_type": "display_data"
    }
   ],
   "source": [
    "#Create new field named has_visited\n",
    "#Added in the paid_engagement table\n",
    "\n",
    "days_visited_by_account = sum_grouped_items(engagement_by_account, 'has_visited')\n",
    "\n",
    "describe_data(list(days_visited_by_account.values()))"
   ]
  },
  {
   "cell_type": "markdown",
   "id": "230a1315",
   "metadata": {},
   "source": [
    "<b> Splitting out Passing Students "
   ]
  },
  {
   "cell_type": "code",
   "execution_count": 42,
   "id": "1d2a4e26",
   "metadata": {},
   "outputs": [
    {
     "data": {
      "text/plain": [
       "647"
      ]
     },
     "execution_count": 42,
     "metadata": {},
     "output_type": "execute_result"
    }
   ],
   "source": [
    "## Create two lists of engagement data for paid students in the first week.\n",
    "## The first list should contain data for students who eventually pass the\n",
    "## subway project, and the second list should contain data for students\n",
    "## who do not.\n",
    "\n",
    "subway_project_lesson_keys = ['746169184', '3176718735']\n",
    "\n",
    "#Create a set of students who pass the subway project at some point\n",
    "\n",
    "pass_subway_project = set()\n",
    "\n",
    "#Loop over each submission in the paid_submissions table\n",
    "\n",
    "for submission in paid_submissions:\n",
    "    \n",
    "#Pull out the project key and rating    \n",
    "    \n",
    "    project = submission['lesson_key']\n",
    "    rating = submission['assigned_rating']\n",
    "\n",
    "#Check if this project is in the list subway_project_lesson_keys\n",
    "#Then check if the student passes the project so we add a \n",
    "#condition that rating is equal to pass or distinction\n",
    "    \n",
    "    if project in subway_project_lesson_keys and \\\n",
    "            (rating == 'PASSED' or rating == 'DISTINCTION'):\n",
    "        pass_subway_project.add(submission['account_key'])\n",
    "    \n",
    "len(pass_subway_project)    "
   ]
  },
  {
   "cell_type": "code",
   "execution_count": 43,
   "id": "9b3095f4",
   "metadata": {},
   "outputs": [
    {
     "name": "stdout",
     "output_type": "stream",
     "text": [
      "4527\n",
      "2392\n"
     ]
    }
   ],
   "source": [
    "passing_engagement = []\n",
    "non_passing_engagement = []\n",
    "\n",
    "for engagement_record in paid_engagement_in_first_week:\n",
    "    if engagement_record['account_key'] in pass_subway_project:\n",
    "        passing_engagement.append(engagement_record)\n",
    "    else:\n",
    "        non_passing_engagement.append(engagement_record)\n",
    "\n",
    "print(len(passing_engagement))\n",
    "print(len(non_passing_engagement))"
   ]
  },
  {
   "cell_type": "markdown",
   "id": "577041a4",
   "metadata": {},
   "source": [
    "<b> Comparing the Two Student Groups"
   ]
  },
  {
   "cell_type": "code",
   "execution_count": 44,
   "id": "05f69a5d",
   "metadata": {},
   "outputs": [],
   "source": [
    "passing_engagement_by_account = group_data(passing_engagement, 'account_key')\n",
    "\n",
    "non_passing_engagement_by_account = group_data(non_passing_engagement, 'account_key')\n"
   ]
  },
  {
   "cell_type": "markdown",
   "id": "c58e356a",
   "metadata": {},
   "source": [
    "<b> Total Minutes Visited"
   ]
  },
  {
   "cell_type": "code",
   "execution_count": 45,
   "id": "dc9b61ad",
   "metadata": {},
   "outputs": [
    {
     "name": "stdout",
     "output_type": "stream",
     "text": [
      "non-passing students:\n",
      "Mean: 143.32647426675584\n",
      "Standard deviation: 269.5386190114951\n",
      "Minimum: 0.0\n",
      "Maximum: 1768.5227493319999\n",
      "passing students:\n",
      "Mean: 394.58604648350865\n",
      "Standard deviation: 448.4995193265521\n",
      "Minimum: 0.0\n",
      "Maximum: 3564.7332644989997\n"
     ]
    },
    {
     "data": {
      "image/png": "[encoded data removed]",
      "text/plain": [
       "<Figure size 432x288 with 1 Axes>"
      ]
     },
     "metadata": {
      "needs_background": "light"
     },
     "output_type": "display_data"
    }
   ],
   "source": [
    "print('non-passing students:')\n",
    "non_passing_minutes = sum_grouped_items(non_passing_engagement_by_account, 'total_minutes_visited')\n",
    "describe_data(list(non_passing_minutes.values()))\n",
    "\n",
    "print('passing students:')\n",
    "passing_minutes = sum_grouped_items(passing_engagement_by_account, 'total_minutes_visited')\n",
    "describe_data(list(passing_minutes.values()))"
   ]
  },
  {
   "cell_type": "markdown",
   "id": "4b6b2f0f",
   "metadata": {},
   "source": [
    "<b> Lessons Completed"
   ]
  },
  {
   "cell_type": "code",
   "execution_count": 46,
   "id": "04c66c6d",
   "metadata": {},
   "outputs": [
    {
     "name": "stdout",
     "output_type": "stream",
     "text": [
      "non-passing students:\n",
      "Mean: 0.8620689655172413\n",
      "Standard deviation: 2.5491599418312028\n",
      "Minimum: 0\n",
      "Maximum: 27\n",
      "passing students:\n",
      "Mean: 2.052550231839258\n",
      "Standard deviation: 3.1422270555779344\n",
      "Minimum: 0\n",
      "Maximum: 36\n"
     ]
    },
    {
     "data": {
      "image/png": "[encoded data removed]",
      "text/plain": [
       "<Figure size 432x288 with 1 Axes>"
      ]
     },
     "metadata": {
      "needs_background": "light"
     },
     "output_type": "display_data"
    }
   ],
   "source": [
    "print('non-passing students:')\n",
    "non_passing_lessons = sum_grouped_items(non_passing_engagement_by_account, 'lessons_completed')\n",
    "describe_data(list(non_passing_lessons.values()))\n",
    "\n",
    "print('passing students:')\n",
    "passing_lessons = sum_grouped_items(passing_engagement_by_account, 'lessons_completed')\n",
    "describe_data(list(passing_lessons.values()))"
   ]
  },
  {
   "cell_type": "markdown",
   "id": "e5a523a7",
   "metadata": {},
   "source": [
    "<b> Number of days the student visited the classroom:"
   ]
  },
  {
   "cell_type": "code",
   "execution_count": 47,
   "id": "c3f8aef2",
   "metadata": {},
   "outputs": [
    {
     "name": "stdout",
     "output_type": "stream",
     "text": [
      "non-passing students:\n",
      "Mean: 1.9051724137931034\n",
      "Standard deviation: 1.9057314413619046\n",
      "Minimum: 0\n",
      "Maximum: 7\n",
      "passing students:\n",
      "Mean: 3.384853168469861\n",
      "Standard deviation: 2.2588214709184595\n",
      "Minimum: 0\n",
      "Maximum: 7\n"
     ]
    },
    {
     "data": {
      "image/png": "[encoded data removed]",
      "text/plain": [
       "<Figure size 432x288 with 1 Axes>"
      ]
     },
     "metadata": {
      "needs_background": "light"
     },
     "output_type": "display_data"
    }
   ],
   "source": [
    "print('non-passing students:')\n",
    "non_passing_visits = sum_grouped_items(non_passing_engagement_by_account, 'has_visited')\n",
    "describe_data(list(non_passing_visits.values()))\n",
    "\n",
    "print('passing students:')\n",
    "passing_visits = sum_grouped_items(passing_engagement_by_account, 'has_visited')\n",
    "describe_data(list(passing_visits.values()))"
   ]
  },
  {
   "cell_type": "markdown",
   "id": "5c06d228",
   "metadata": {},
   "source": [
    "<h2> Histograms"
   ]
  },
  {
   "cell_type": "markdown",
   "id": "2955baa6",
   "metadata": {},
   "source": [
    "Make a histogram of each of the three metrics we looked at for both students who pass the subway project and students who don't. That is, you should create 6 histograms. Do any of the metrics have histograms with very different shapes for students who pass the subway project vs. those who don't?"
   ]
  },
  {
   "cell_type": "code",
   "execution_count": 48,
   "id": "a2a09129",
   "metadata": {},
   "outputs": [
    {
     "data": {
      "image/png": "[encoded data removed]",
      "text/plain": [
       "<Figure size 432x288 with 1 Axes>"
      ]
     },
     "metadata": {
      "needs_background": "light"
     },
     "output_type": "display_data"
    }
   ],
   "source": [
    "import matplotlib.pyplot as plt\n",
    "plt.hist(non_passing_minutes.values())\n",
    "plt.show()"
   ]
  },
  {
   "cell_type": "code",
   "execution_count": 49,
   "id": "bd936524",
   "metadata": {},
   "outputs": [
    {
     "data": {
      "image/png": "[encoded data removed]",
      "text/plain": [
       "<Figure size 432x288 with 1 Axes>"
      ]
     },
     "metadata": {
      "needs_background": "light"
     },
     "output_type": "display_data"
    }
   ],
   "source": [
    "plt.hist(passing_minutes.values())\n",
    "plt.show()"
   ]
  },
  {
   "cell_type": "code",
   "execution_count": 50,
   "id": "494f4131",
   "metadata": {},
   "outputs": [
    {
     "data": {
      "image/png": "[encoded data removed]",
      "text/plain": [
       "<Figure size 432x288 with 1 Axes>"
      ]
     },
     "metadata": {
      "needs_background": "light"
     },
     "output_type": "display_data"
    }
   ],
   "source": [
    "plt.hist(non_passing_lessons.values())\n",
    "plt.show()"
   ]
  },
  {
   "cell_type": "code",
   "execution_count": 51,
   "id": "ab69d4d9",
   "metadata": {},
   "outputs": [
    {
     "data": {
      "image/png": "[encoded data removed]",
      "text/plain": [
       "<Figure size 432x288 with 1 Axes>"
      ]
     },
     "metadata": {
      "needs_background": "light"
     },
     "output_type": "display_data"
    }
   ],
   "source": [
    "plt.hist(passing_lessons.values())\n",
    "plt.show()"
   ]
  },
  {
   "cell_type": "code",
   "execution_count": 52,
   "id": "27c04aa3",
   "metadata": {},
   "outputs": [
    {
     "data": {
      "image/png": "[encoded data removed]",
      "text/plain": [
       "<Figure size 432x288 with 1 Axes>"
      ]
     },
     "metadata": {
      "needs_background": "light"
     },
     "output_type": "display_data"
    }
   ],
   "source": [
    "import seaborn as sns\n",
    "\n",
    "plt.hist(non_passing_visits.values(), bins=8)\n",
    "plt.xlabel('Number of days')\n",
    "plt.title('Distribution of classroom visits in the first week' +\n",
    "         ' for students who pass the subject project')\n",
    "plt.show()"
   ]
  },
  {
   "cell_type": "code",
   "execution_count": 53,
   "id": "8e2c60fc",
   "metadata": {},
   "outputs": [
    {
     "data": {
      "image/png": "[encoded data removed]",
      "text/plain": [
       "<Figure size 432x288 with 1 Axes>"
      ]
     },
     "metadata": {
      "needs_background": "light"
     },
     "output_type": "display_data"
    }
   ],
   "source": [
    "plt.hist(passing_visits.values(), bins=8)\n",
    "plt.xlabel('Number of days')\n",
    "plt.title('Distribution of classroom visits in the first week' +\n",
    "         ' for students who did not pass the subject project')\n",
    "plt.show()"
   ]
  },
  {
   "cell_type": "markdown",
   "id": "3c2af074",
   "metadata": {},
   "source": [
    "<h2> Drawing Conclusions Phase"
   ]
  },
  {
   "cell_type": "markdown",
   "id": "5bdccfa5",
   "metadata": {},
   "source": [
    "<b>Tentative Conclusion:</b> Students who pass the Subway project spend more minutes in the classroom during their first week.\n",
    "\n",
    "But is it a true difference or due to the noise in the data?"
   ]
  },
  {
   "cell_type": "markdown",
   "id": "bcdcbf81",
   "metadata": {},
   "source": [
    "<h2> Communication Phase"
   ]
  },
  {
   "cell_type": "markdown",
   "id": "2b29a2b8",
   "metadata": {},
   "source": [
    "- What findings are most interesting?\n",
    "<br>a. Difference in total minutes\n",
    "<br>b. Difference in days visited\n",
    "<br><br>\n",
    "- How will you present them?\n",
    "<br>a. Report average minutes\n",
    "<br>b. Show histograms (polish any visualizations)"
   ]
  },
  {
   "cell_type": "markdown",
   "id": "d7cbf426",
   "metadata": {},
   "source": [
    "<h2> Data Analysis and Related Terms"
   ]
  },
  {
   "cell_type": "markdown",
   "id": "2ad99558",
   "metadata": {},
   "source": [
    "<b>Data Science</b>\n",
    "- Similar to data analysis\n",
    "- More focused on building systems (recommendation system or ranking algorithm)\n",
    "- May require more experience"
   ]
  },
  {
   "cell_type": "markdown",
   "id": "b5659878",
   "metadata": {},
   "source": [
    "<b>Data Engineering\n",
    "- More focused on data wrangling\n",
    "- Involves data storage and processing"
   ]
  },
  {
   "cell_type": "markdown",
   "id": "b08d0dd8",
   "metadata": {},
   "source": [
    "<b>Big Data\n",
    "- Fuzzy term for \"a lot\" of data\n",
    "- Data analysts, scientists, and engineers can all work with big data    "
   ]
  },
  {
   "cell_type": "code",
   "execution_count": null,
   "id": "342cec12",
   "metadata": {},
   "outputs": [],
   "source": []
  }
 ],
 "metadata": {
  "kernelspec": {
   "display_name": "Python 3 (ipykernel)",
   "language": "python",
   "name": "python3"
  },
  "language_info": {
   "codemirror_mode": {
    "name": "ipython",
    "version": 3
   },
   "file_extension": ".py",
   "mimetype": "text/x-python",
   "name": "python",
   "nbconvert_exporter": "python",
   "pygments_lexer": "ipython3",
   "version": "3.9.7"
  }
 },
 "nbformat": 4,
 "nbformat_minor": 5
}
